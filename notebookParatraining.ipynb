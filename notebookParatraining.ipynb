{
 "cells": [
  {
   "cell_type": "markdown",
   "metadata": {},
   "source": [
    "Duplicate images into new folder"
   ]
  },
  {
   "cell_type": "code",
   "execution_count": 4,
   "metadata": {},
   "outputs": [
    {
     "name": "stdout",
     "output_type": "stream",
     "text": [
      "Duplicated the image 120 times in the folder 'dtd_folder/dtd/images/curatedHoneycomb_WGAN'.\n"
     ]
    }
   ],
   "source": [
    "import os\n",
    "import shutil\n",
    "\n",
    "# Input image path (relative path)\n",
    "input_image_path = \"dtd_folder/dtd/images/honeycombed/honeycombed_0003.jpg\"  # Replace with your image path\n",
    "\n",
    "# Output directory\n",
    "output_dir = \"dtd_folder/dtd/images/curatedHoneycomb_WGAN\"\n",
    "os.makedirs(output_dir, exist_ok=True)  # Create the folder if it doesn't exist\n",
    "\n",
    "# Number of duplicates\n",
    "num_duplicates = 120\n",
    "\n",
    "# Loop to create duplicates with unique filenames\n",
    "for i in range(1, num_duplicates + 1):\n",
    "    output_file = os.path.join(output_dir, f\"honeycomb_{i}.jpg\")\n",
    "    shutil.copy(input_image_path, output_file)\n",
    "\n",
    "print(f\"Duplicated the image {num_duplicates} times in the folder '{output_dir}'.\")"
   ]
  },
  {
   "cell_type": "code",
   "execution_count": 5,
   "metadata": {},
   "outputs": [
    {
     "name": "stdout",
     "output_type": "stream",
     "text": [
      "Duplicated the image 120 times in the folder 'dtd_folder/dtd/images/curatedHoneycombHOMOGRAPHY_WGAN'.\n"
     ]
    }
   ],
   "source": [
    "import cv2\n",
    "import homography\n",
    "# Input image path (relative path)\n",
    "input_dir = \"dtd_folder/dtd/images/curatedHoneycomb_WGAN\"\n",
    "\n",
    "# Output directory\n",
    "output_dir = \"dtd_folder/dtd/images/curatedHoneycombHOMOGRAPHY_WGAN\"\n",
    "os.makedirs(output_dir, exist_ok=True)  # Create the folder if it doesn't exist\n",
    "\n",
    "# Loop to create duplicates with unique filenames\n",
    "for i in range(1, 21):\n",
    "    output_file = os.path.join(output_dir, f\"honeycomb_{i}.jpg\")\n",
    "    input_file = os.path.join(input_dir, f'honeycomb_{i}.jpg')\n",
    "    img = cv2.imread(input_file)\n",
    "    H = homography.generate_homography_warp(img.shape[:2])\n",
    "    img_out = homography.apply_homography(img, H)\n",
    "    cv2.imwrite(output_file, img_out)\n",
    "    \n",
    "print(f\"Duplicated the image {num_duplicates} times in the folder '{output_dir}'.\")"
   ]
  },
  {
   "cell_type": "code",
   "execution_count": 6,
   "metadata": {},
   "outputs": [
    {
     "name": "stdout",
     "output_type": "stream",
     "text": [
      "Loading images!\n",
      "Found 120 files.\n"
     ]
    },
    {
     "name": "stderr",
     "output_type": "stream",
     "text": [
      "C:\\Users\\ASC_Student\\AppData\\Local\\Packages\\PythonSoftwareFoundation.Python.3.11_qbz5n2kfra8p0\\LocalCache\\local-packages\\Python311\\site-packages\\tensorflow\\python\\data\\ops\\structured_function.py:258: UserWarning: Even though the `tf.config.experimental_run_functions_eagerly` option is set, this option does not apply to tf.data functions. To force eager execution of tf.data functions, please use `tf.data.experimental.enable_debug_mode()`.\n",
      "  warnings.warn(\n"
     ]
    }
   ],
   "source": [
    "from utils import load_and_preprocess_images\n",
    "from config import Config\n",
    "config = Config()\n",
    "\n",
    "images_dir = 'C:/Users/ASC_Student/Documents/GitHub/GAN-Texture-Synthesis/dtd_folder/dtd/images/curatedHoneycomb_WGAN'\n",
    "images_dir_warped = 'C:/Users/ASC_Student/Documents/GitHub/GAN-Texture-Synthesis/dtd_folder/dtd/images/curatedChequeredHOMOGRAPHY_WGAN'\n",
    "print(\"Loading images!\")\n",
    "\n",
    "dataset = load_and_preprocess_images(images_dir, target_size=(160, 160), batch_size=config.batch_size)\n",
    "\n",
    "# for homography testing (separate pipeline, not in GAN)\n",
    "# dataset_warped = load_and_preprocess_images(images_dir_warped, target_size=(160, 160), batch_size=config.batch_size)\n",
    "\n",
    "# combined_dataset = dataset.concatenate(dataset_warped)"
   ]
  },
  {
   "cell_type": "code",
   "execution_count": null,
   "metadata": {},
   "outputs": [],
   "source": [
    "from trainWGAN import train \n",
    "\n",
    "print(\"Starting PSGAN training...wish me luck\")\n",
    "loss_g, loss_d = train(dataset, epochs=config.epoch_count)\n",
    "print(\"Training complete! Check 'samples/' for generated images and 'models/' for saved models.\")"
   ]
  }
 ],
 "metadata": {
  "kernelspec": {
   "display_name": "Python 3",
   "language": "python",
   "name": "python3"
  },
  "language_info": {
   "codemirror_mode": {
    "name": "ipython",
    "version": 3
   },
   "file_extension": ".py",
   "mimetype": "text/x-python",
   "name": "python",
   "nbconvert_exporter": "python",
   "pygments_lexer": "ipython3",
   "version": "3.11.9"
  }
 },
 "nbformat": 4,
 "nbformat_minor": 2
}
